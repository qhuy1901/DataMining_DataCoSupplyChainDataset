{
 "cells": [
  {
   "cell_type": "code",
   "execution_count": 2,
   "id": "673e365d",
   "metadata": {},
   "outputs": [],
   "source": [
    "import pandas as pd"
   ]
  },
  {
   "cell_type": "code",
   "execution_count": 4,
   "id": "f79b221f",
   "metadata": {},
   "outputs": [],
   "source": [
    "df = pd.read_csv('DataCoSupplyChainDataset.csv', header= 0,encoding='unicode_escape')"
   ]
  },
  {
   "cell_type": "code",
   "execution_count": 8,
   "id": "e5d2544c",
   "metadata": {},
   "outputs": [
    {
     "data": {
      "text/plain": [
       "65752"
      ]
     },
     "execution_count": 8,
     "metadata": {},
     "output_type": "execute_result"
    }
   ],
   "source": [
    "len(df['Order Id'].unique())"
   ]
  },
  {
   "cell_type": "code",
   "execution_count": null,
   "id": "b808f1f8",
   "metadata": {},
   "outputs": [],
   "source": []
  }
 ],
 "metadata": {
  "kernelspec": {
   "display_name": "Python 3 (ipykernel)",
   "language": "python",
   "name": "python3"
  },
  "language_info": {
   "codemirror_mode": {
    "name": "ipython",
    "version": 3
   },
   "file_extension": ".py",
   "mimetype": "text/x-python",
   "name": "python",
   "nbconvert_exporter": "python",
   "pygments_lexer": "ipython3",
   "version": "3.10.4"
  }
 },
 "nbformat": 4,
 "nbformat_minor": 5
}
